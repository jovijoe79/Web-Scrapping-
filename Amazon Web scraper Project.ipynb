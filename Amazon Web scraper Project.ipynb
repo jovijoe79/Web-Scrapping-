{
 "cells": [
  {
   "cell_type": "code",
   "execution_count": 7,
   "id": "4803b700-dda5-4fd9-b675-9dcf71b80bcf",
   "metadata": {},
   "outputs": [],
   "source": [
    "# import libraries\n",
    "\n",
    "from bs4 import BeautifulSoup\n",
    "import requests\n",
    "import time\n",
    "import datetime\n",
    "\n",
    "import smtplib"
   ]
  },
  {
   "cell_type": "code",
   "execution_count": 102,
   "id": "a4c0f080-6f49-4652-bfb3-3d4d3790edba",
   "metadata": {},
   "outputs": [
    {
     "name": "stdout",
     "output_type": "stream",
     "text": [
      "\n",
      "                    Funny Got Data MIS Data Systems Business Analyst T-Shirt\n",
      "                   \n",
      "\n",
      "                    $16.99\n",
      "                   \n"
     ]
    }
   ],
   "source": [
    "# connect to website\n",
    "url ='https://www.amazon.com/Funny-Data-Systems-Business-Analyst/dp/B07FNW9FGJ/ref=sr_1_3?dchild=1&keywords=data%2Banalyst%2Btshirt&qid=1626655184&sr=8-3&customId=B0752XJYNL&th=1'\n",
    "\n",
    "\n",
    "headers = {\"User-Agent\": \"Mozilla/5.0 (Windows NT 10.0; Win64; x64) AppleWebKit/537.36 (KHTML, like Gecko) Chrome/128.0.0.0 Safari/537.36\", \"Accept-Encoding\":\"gzip, deflate\", \"Accept\":\"text/html,application/xhtml+xml,application/xml;q=0.9,*/*;q=0.8\", \"DNT\":\"1\",\"Connection\":\"close\", \"Upgrade-Insecure-Requests\":\"1\"}\n",
    "\n",
    "page = requests.get(url, headers = headers)\n",
    "\n",
    "soup1 = BeautifulSoup(page.content, \"html.parser\")\n",
    "\n",
    "soup2 = BeautifulSoup(soup1.prettify(), 'html.parser')\n",
    "\n",
    "title = soup2.find(id= 'productTitle').get_text()\n",
    "\n",
    "price = soup2.find(class_ = 'aok-offscreen').get_text()\n",
    "print(title)\n",
    "print(price)\n"
   ]
  },
  {
   "cell_type": "code",
   "execution_count": 104,
   "id": "4dbff533-ca26-4a5e-8940-4fb379093920",
   "metadata": {},
   "outputs": [
    {
     "name": "stdout",
     "output_type": "stream",
     "text": [
      "Funny Got Data MIS Data Systems Business Analyst T-Shirt\n",
      "16.99\n"
     ]
    }
   ],
   "source": [
    "price = price.strip()[1:]\n",
    "title = title.strip()\n",
    "\n",
    "print(title)\n",
    "print(price)"
   ]
  },
  {
   "cell_type": "code",
   "execution_count": 116,
   "id": "31ad24cb-4586-4361-9c6e-490390c9a9a9",
   "metadata": {},
   "outputs": [
    {
     "name": "stdout",
     "output_type": "stream",
     "text": [
      "2024-09-13\n"
     ]
    }
   ],
   "source": [
    "import datetime\n",
    "\n",
    "today = datetime.date.today()\n",
    "print(today)"
   ]
  },
  {
   "cell_type": "code",
   "execution_count": 118,
   "id": "dd0b3155-30db-4b3f-a011-5a5d1a326cd2",
   "metadata": {},
   "outputs": [],
   "source": [
    "import csv\n",
    "\n",
    "header = ['Title', 'Price', 'Date']\n",
    "data = [title, price, today]\n",
    "\n",
    "with open('AmazonWebScraperData.csv', 'w', newline='', encoding='UTF8') as f:\n",
    "    writer = csv.writer(f)\n",
    "    writer.writerow(header)\n",
    "    writer.writerow(data)"
   ]
  },
  {
   "cell_type": "code",
   "execution_count": 134,
   "id": "a089256c-98d9-4764-9c31-424bef9d35aa",
   "metadata": {},
   "outputs": [
    {
     "name": "stdout",
     "output_type": "stream",
     "text": [
      "                                               Title  Price        Date\n",
      "0  Funny Got Data MIS Data Systems Business Analy...  16.99  2024-09-13\n",
      "1  Funny Got Data MIS Data Systems Business Analy...  16.99  2024-09-13\n",
      "2  Funny Got Data MIS Data Systems Business Analy...  16.99  2024-09-13\n",
      "3  Funny Got Data MIS Data Systems Business Analy...  16.99  2024-09-13\n",
      "4  Funny Got Data MIS Data Systems Business Analy...  16.99  2024-09-13\n",
      "5  Funny Got Data MIS Data Systems Business Analy...  16.99  2024-09-13\n"
     ]
    }
   ],
   "source": [
    "import pandas as pd\n",
    "\n",
    "df = pd.read_csv(r\"C:\\Users\\DELL\\AmazonWebScraperData.csv\")\n",
    "print(df)"
   ]
  },
  {
   "cell_type": "code",
   "execution_count": 132,
   "id": "64f09293-c4fd-46c5-9d5d-35e9e8a54804",
   "metadata": {},
   "outputs": [],
   "source": [
    "#now we are appending to csv \n",
    "\n",
    "with open('AmazonWebScraperData.csv', 'a+', newline='', encoding='UTF8') as f:\n",
    "    writer = csv.writer(f)\n",
    "    writer.writerow(data)"
   ]
  },
  {
   "cell_type": "code",
   "execution_count": 136,
   "id": "e382921d-a3ae-4dcc-bde6-0aed3aeca791",
   "metadata": {},
   "outputs": [],
   "source": [
    "def check_price():\n",
    "    url ='https://www.amazon.com/Funny-Data-Systems-Business-Analyst/dp/B07FNW9FGJ/ref=sr_1_3?dchild=1&keywords=data%2Banalyst%2Btshirt&qid=1626655184&sr=8-3&customId=B0752XJYNL&th=1'\n",
    "\n",
    "    headers = {\"User-Agent\": \"Mozilla/5.0 (Windows NT 10.0; Win64; x64) AppleWebKit/537.36 (KHTML, like Gecko) Chrome/128.0.0.0 Safari/537.36\", \"Accept-Encoding\":\"gzip, deflate\", \"Accept\":\"text/html,application/xhtml+xml,application/xml;q=0.9,*/*;q=0.8\", \"DNT\":\"1\",\"Connection\":\"close\", \"Upgrade-Insecure-Requests\":\"1\"}\n",
    "\n",
    "    page = requests.get(url, headers = headers)\n",
    "\n",
    "    soup1 = BeautifulSoup(page.content, \"html.parser\")\n",
    "\n",
    "    soup2 = BeautifulSoup(soup1.prettify(), 'html.parser')\n",
    "\n",
    "    title = soup2.find(id= 'productTitle').get_text()\n",
    "\n",
    "    price = soup2.find(class_ = 'aok-offscreen').get_text()\n",
    "\n",
    "    price = price.strip()[1:]\n",
    "    title = title.strip()\n",
    "\n",
    "    import datetime\n",
    "    \n",
    "    today = datetime.date.today()\n",
    "\n",
    "    import csv\n",
    "    header = ['Title', 'Price', 'Date']\n",
    "    data = [title, price, today]\n",
    "\n",
    "    with open('AmazonWebScraperData.csv', 'a+', newline='', encoding='UTF8') as f:\n",
    "        writer = csv.writer(f)\n",
    "        writer.writerow(data)\n",
    "    "
   ]
  },
  {
   "cell_type": "code",
   "execution_count": 138,
   "id": "a5c8024e-fa9f-43bd-95b1-10946564acaa",
   "metadata": {},
   "outputs": [
    {
     "ename": "KeyboardInterrupt",
     "evalue": "",
     "output_type": "error",
     "traceback": [
      "\u001b[1;31m---------------------------------------------------------------------------\u001b[0m",
      "\u001b[1;31mKeyboardInterrupt\u001b[0m                         Traceback (most recent call last)",
      "Cell \u001b[1;32mIn[138], line 3\u001b[0m\n\u001b[0;32m      1\u001b[0m \u001b[38;5;28;01mwhile\u001b[39;00m(\u001b[38;5;28;01mTrue\u001b[39;00m):\n\u001b[0;32m      2\u001b[0m     check_price()\n\u001b[1;32m----> 3\u001b[0m     time\u001b[38;5;241m.\u001b[39msleep(\u001b[38;5;241m5\u001b[39m)\n",
      "\u001b[1;31mKeyboardInterrupt\u001b[0m: "
     ]
    }
   ],
   "source": [
    "while(True):\n",
    "    check_price()\n",
    "    time.sleep(5)"
   ]
  },
  {
   "cell_type": "code",
   "execution_count": 140,
   "id": "382e0c04-1475-446f-a2f4-331993f11d66",
   "metadata": {},
   "outputs": [
    {
     "name": "stdout",
     "output_type": "stream",
     "text": [
      "                                                Title  Price        Date\n",
      "0   Funny Got Data MIS Data Systems Business Analy...  16.99  2024-09-13\n",
      "1   Funny Got Data MIS Data Systems Business Analy...  16.99  2024-09-13\n",
      "2   Funny Got Data MIS Data Systems Business Analy...  16.99  2024-09-13\n",
      "3   Funny Got Data MIS Data Systems Business Analy...  16.99  2024-09-13\n",
      "4   Funny Got Data MIS Data Systems Business Analy...  16.99  2024-09-13\n",
      "5   Funny Got Data MIS Data Systems Business Analy...  16.99  2024-09-13\n",
      "6   Funny Got Data MIS Data Systems Business Analy...  16.99  2024-09-13\n",
      "7   Funny Got Data MIS Data Systems Business Analy...  16.99  2024-09-13\n",
      "8   Funny Got Data MIS Data Systems Business Analy...  16.99  2024-09-13\n",
      "9   Funny Got Data MIS Data Systems Business Analy...  16.99  2024-09-13\n",
      "10  Funny Got Data MIS Data Systems Business Analy...  16.99  2024-09-13\n",
      "11  Funny Got Data MIS Data Systems Business Analy...  16.99  2024-09-13\n"
     ]
    }
   ],
   "source": [
    "import pandas as pd\n",
    "\n",
    "df = pd.read_csv(r\"C:\\Users\\DELL\\AmazonWebScraperData.csv\")\n",
    "print(df)"
   ]
  },
  {
   "cell_type": "code",
   "execution_count": null,
   "id": "2b23df05-0888-4320-a63a-24087cb065d7",
   "metadata": {},
   "outputs": [],
   "source": []
  },
  {
   "cell_type": "code",
   "execution_count": null,
   "id": "c58a67f1-733d-4a0e-a826-e25e17cb57e8",
   "metadata": {},
   "outputs": [],
   "source": []
  }
 ],
 "metadata": {
  "kernelspec": {
   "display_name": "Python 3 (ipykernel)",
   "language": "python",
   "name": "python3"
  },
  "language_info": {
   "codemirror_mode": {
    "name": "ipython",
    "version": 3
   },
   "file_extension": ".py",
   "mimetype": "text/x-python",
   "name": "python",
   "nbconvert_exporter": "python",
   "pygments_lexer": "ipython3",
   "version": "3.12.4"
  }
 },
 "nbformat": 4,
 "nbformat_minor": 5
}
